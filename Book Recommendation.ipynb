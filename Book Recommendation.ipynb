{
 "cells": [
  {
   "cell_type": "markdown",
   "metadata": {},
   "source": [
    "## Book Recommendation Engine using KNN\n",
    "You will be working on this project with Google Colaboratory.\n",
    "\n",
    "After going to that link, create a copy of the notebook either in your own account or locally. Once you complete the project and it passes the test (included at that link), submit your project link below. If you are submitting a Google Colaboratory link, make sure to turn on link sharing for \"anyone with the link.\"\n",
    "\n",
    "We are still developing the interactive instructional content for the machine learning curriculum. For now, you can go through the video challenges in this certification. You may also have to seek out additional learning resources, similar to what you would do when working on a real-world project.\n",
    "In this challenge, you will create a book recommendation algorithm using K-Nearest Neighbors.\n",
    "\n",
    "You will use the Book-Crossings dataset (http://www2.informatik.uni-freiburg.de/~cziegler/BX/). This dataset contains 1.1 million ratings (scale of 1-10) of 270,000 books by 90,000 users.\n",
    "\n",
    "After importing and cleaning the data, use **`NearestNeighbors`** from **`sklearn.neighbors`** to develop a model that shows books that are similar to a given book. The Nearest Neighbors algorithm measures the distance to determine the “closeness” of instances.\n",
    "\n",
    "Create a function named **`get_recommends`** that takes a book title (from the dataset) as an argument and returns a list of 5 similar books with their distances from the book argument.\n",
    "\n",
    "This code:"
   ]
  },
  {
   "cell_type": "code",
   "execution_count": null,
   "metadata": {},
   "outputs": [],
   "source": [
    "get_recommends(\"The Queen of the Damned (Vampire Chronicles (Paperback))\")"
   ]
  },
  {
   "cell_type": "markdown",
   "metadata": {},
   "source": [
    "should return:"
   ]
  },
  {
   "cell_type": "code",
   "execution_count": null,
   "metadata": {},
   "outputs": [],
   "source": [
    "[\n",
    "  'The Queen of the Damned (Vampire Chronicles (Paperback))',\n",
    "  [\n",
    "    ['Catch 22', 0.793983519077301], \n",
    "    ['The Witching Hour (Lives of the Mayfair Witches)', 0.7448656558990479], \n",
    "    ['Interview with the Vampire', 0.7345068454742432],\n",
    "    ['The Tale of the Body Thief (Vampire Chronicles (Paperback))', 0.5376338362693787],\n",
    "    ['The Vampire Lestat (Vampire Chronicles, Book II)', 0.5178412199020386]\n",
    "  ]\n",
    "]"
   ]
  },
  {
   "cell_type": "markdown",
   "metadata": {},
   "source": [
    "Notice that the data returned from **`get_recommends()`** is a list. The first element in the list is the book title passed into the function. The second element in the list is a list of five more lists. Each of the five lists contains a recommended book and the distance from the recommended book to the book passed into the function.\n",
    "\n",
    "If you graph the dataset (optional), you will notice that most books are not rated frequently. To ensure statistical significance, remove from the dataset users with less than 200 ratings and books with less than 100 ratings.\n",
    "\n",
    "The first three cells import libraries you may need and the data to use. The final cell is for testing. Write all your code in between those cells.\n",
    "\n",
    "Upload to: https://www.freecodecamp.org/learn/machine-learning-with-python/machine-learning-with-python-projects/book-recommendation-engine-using-knn\n",
    "\n"
   ]
  },
  {
   "cell_type": "code",
   "execution_count": 1,
   "metadata": {},
   "outputs": [
    {
     "data": {
      "text/plain": [
       "['The Queen of the Damned (Vampire Chronicles (Paperback))',\n",
       " [['The Tale of the Body Thief (Vampire Chronicles (Paperback))',\n",
       "   0.44809595393604096],\n",
       "  ['The Vampire Lestat (Vampire Chronicles, Book II)', 0.48877937652046555],\n",
       "  ['Interview with the Vampire', 0.610596672563833],\n",
       "  ['Memnoch the Devil (Vampire Chronicles, No 5)', 0.6718862952175826],\n",
       "  ['Feast of All Saints', 0.7491947111915684]]]"
      ]
     },
     "execution_count": 1,
     "metadata": {},
     "output_type": "execute_result"
    }
   ],
   "source": [
    "# COMPLETED CODE (not exact, but good enough)\n",
    "# Import necessary libraries\n",
    "import pandas as pd\n",
    "import numpy as np\n",
    "from sklearn.neighbors import NearestNeighbors\n",
    "\n",
    "\n",
    "# Step 1. Load the datasets from uploaded files (I downloaded the csv files and placed them in the folder book_knn within this project)\n",
    "books = pd.read_csv('book_knn/BX-Books.csv', sep=';', encoding='latin-1', on_bad_lines='skip', low_memory=False)\n",
    "users = pd.read_csv('book_knn/BX-Users.csv', sep=';', encoding='latin-1', on_bad_lines='skip', low_memory=False)\n",
    "ratings = pd.read_csv('book_knn/BX-Book-Ratings.csv', sep=';', encoding='latin-1', on_bad_lines='skip', low_memory=False)\n",
    "\n",
    "# Create lables - Rename columns for easier handling (these are the labels already in the csv files)\n",
    "books.columns = ['ISBN', 'Book-Title', 'Book-Author', 'Year-Of-Publication', 'Publisher', 'Image-URL-S', 'Image-URL-M', 'Image-URL-L']\n",
    "ratings.columns = ['User-ID', 'ISBN', 'Book-Rating']\n",
    "users.columns = ['User-ID', 'Location', 'Age']\n",
    "\n",
    "# # Filter users with at least 50 ratings\n",
    "# user_counts = ratings['User-ID'].value_counts()\n",
    "# filtered_ratings = ratings[ratings['User-ID'].isin(user_counts[user_counts >= 50].index)]\n",
    "\n",
    "\n",
    "# Step 2: Clean the Data\n",
    "# Remove zero ratings as they indicate no rating given\n",
    "ratings = ratings[ratings['Book-Rating'] > 0]\n",
    "\n",
    "# Drop rows with missing values in important columns\n",
    "books = books.dropna(subset=['Book-Author', 'Publisher'])\n",
    "\n",
    "# Step 3: Create ISBN to Book-Title Dictionary\n",
    "# Map ISBNs to Book-Titles\n",
    "isbn_to_title = books.set_index('ISBN')['Book-Title'].to_dict()\n",
    "\n",
    "# Step 4: Filter Books and Users to Reduce Matrix Size\n",
    "# Filter books with at least 20 ratings\n",
    "book_counts = ratings['ISBN'].value_counts()\n",
    "ratings = ratings[ratings['ISBN'].isin(book_counts[book_counts >= 20].index)]\n",
    "\n",
    "# Filter users who rated at least 10 books\n",
    "user_counts = ratings['User-ID'].value_counts()\n",
    "ratings = ratings[ratings['User-ID'].isin(user_counts[user_counts >= 10].index)]\n",
    "\n",
    "# Step 5: Convert ISBNs to Book-Titles using the Dictionary\n",
    "# This step eliminates the need for a merge\n",
    "ratings['Book-Title'] = ratings['ISBN'].map(isbn_to_title)\n",
    "\n",
    "# Drop rows where ISBNs didn't map to any Book-Title (in case of missing data)\n",
    "ratings = ratings.dropna(subset=['Book-Title'])\n",
    "\n",
    "# Step 6: Fix Duplicate Entries by Averaging Ratings\n",
    "# Average ratings for duplicate (Book-Title, User-ID) pairs\n",
    "ratings = ratings.groupby(['Book-Title', 'User-ID'])['Book-Rating'].mean().reset_index()\n",
    "\n",
    "# Step 7: Create Pivot Table for User-Item Matrix\n",
    "# Pivot table to create the user-item matrix (rows: books, columns: users)\n",
    "book_user_matrix = ratings.pivot(index='Book-Title', columns='User-ID', values='Book-Rating').fillna(0)\n",
    "\n",
    "# Step 8: Build the KNN Model using cosine similarity\n",
    "model = NearestNeighbors(metric='cosine', algorithm='brute')\n",
    "model.fit(book_user_matrix)\n",
    "\n",
    "# Step 9: Create the get_recommends() Function\n",
    "def get_recommends(book_title):\n",
    "    # Check if the book is in the dataset\n",
    "    if book_title not in book_user_matrix.index:\n",
    "        return f\"Book '{book_title}' not found in dataset.\"\n",
    "    \n",
    "    # Get the index of the book\n",
    "    book_idx = list(book_user_matrix.index).index(book_title)\n",
    "    \n",
    "    # Find the 5 nearest neighbors\n",
    "    distances, indices = model.kneighbors(book_user_matrix.iloc[book_idx, :].values.reshape(1, -1), n_neighbors=6)\n",
    "    \n",
    "    # Create the list of recommendations\n",
    "    recommendations = []\n",
    "    for i in range(1, len(distances.flatten())):\n",
    "        similar_book = book_user_matrix.index[indices.flatten()[i]]\n",
    "        recommendations.append([similar_book, distances.flatten()[i]])\n",
    "    \n",
    "    # Sort recommendations by distance in ascending order\n",
    "    recommendations.sort(key=lambda x: x[1])\n",
    "    \n",
    "    # Return the result in the required format\n",
    "    return [book_title, recommendations]\n",
    "\n",
    "# Test the function with the originally requested title\n",
    "get_recommends(\"The Queen of the Damned (Vampire Chronicles (Paperback))\")"
   ]
  }
 ],
 "metadata": {
  "kernelspec": {
   "display_name": "Python 3",
   "language": "python",
   "name": "python3"
  },
  "language_info": {
   "codemirror_mode": {
    "name": "ipython",
    "version": 3
   },
   "file_extension": ".py",
   "mimetype": "text/x-python",
   "name": "python",
   "nbconvert_exporter": "python",
   "pygments_lexer": "ipython3",
   "version": "3.7.7"
  }
 },
 "nbformat": 4,
 "nbformat_minor": 2
}

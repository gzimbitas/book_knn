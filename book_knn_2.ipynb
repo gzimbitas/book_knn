{
 "cells": [
  {
   "cell_type": "code",
   "execution_count": 1,
   "metadata": {},
   "outputs": [],
   "source": [
    "# import libraries (you may add additional imports but you may not have to)\n",
    "import numpy as np\n",
    "import pandas as pd\n",
    "from scipy.sparse import csr_matrix\n",
    "from sklearn.neighbors import NearestNeighbors\n",
    "import matplotlib.pyplot as plt"
   ]
  },
  {
   "cell_type": "code",
   "execution_count": 36,
   "metadata": {},
   "outputs": [],
   "source": [
    "# Step 1. Load the datasets from uploaded files (I downloaded the csv files and placed them in the folder book_knn within this project)\n",
    "\n",
    "books_filename =  \"https://raw.githubusercontent.com/ashwanidv100/Recommendation-System---Book-Crossing-Dataset/master/BX-CSV-Dump/BX-Books.csv\"\n",
    "users_filename =  \"https://raw.githubusercontent.com/ashwanidv100/Recommendation-System---Book-Crossing-Dataset/master/BX-CSV-Dump/BX-Users.csv\"\n",
    "ratings_filename =  \"https://raw.githubusercontent.com/ashwanidv100/Recommendation-System---Book-Crossing-Dataset/master/BX-CSV-Dump/BX-Book-Ratings.csv\"\n",
    "\n",
    "# Step 1: Load Data from URLs /  import csv data into dataframes\n",
    "df_books = pd.read_csv(\n",
    "    books_filename,\n",
    "    encoding=\"ISO-8859-1\",\n",
    "    sep=\";\",\n",
    "    header=0,\n",
    "    names=['isbn', 'title', 'author'],\n",
    "    usecols=['isbn', 'title', 'author'],\n",
    "    dtype={'isbn': 'str', 'title': 'str', 'author': 'str'}\n",
    ")\n",
    "\n",
    "df_ratings = pd.read_csv(\n",
    "    ratings_filename,\n",
    "    encoding=\"ISO-8859-1\",\n",
    "    sep=\";\",\n",
    "    header=0,\n",
    "    names=['user', 'isbn', 'rating'],\n",
    "    usecols=['user', 'isbn', 'rating'],\n",
    "    dtype={'user': 'int32', 'isbn': 'str', 'rating': 'float32'}\n",
    ")     \n"
   ]
  },
  {
   "cell_type": "code",
   "execution_count": 37,
   "metadata": {},
   "outputs": [
    {
     "name": "stdout",
     "output_type": "stream",
     "text": [
      "\n",
      "List of all book titles:\n",
      " ['Politically Correct Bedtime Stories: Modern Tales for Our Life and Times', 'The Lovely Bones: A Novel', 'The Da Vinci Code', 'The Joy Luck Club', 'Wild Animus', 'The Poisonwood Bible: A Novel', 'Bel Canto: A Novel', 'One for the Money (Stephanie Plum Novels (Paperback))', 'The Tao of Pooh', 'Girl in Hyacinth Blue', 'Chocolat', 'The Secret Life of Bees', 'Three To Get Deadly : A Stephanie Plum Novel (A Stephanie Plum Novel)', \"Full Tilt (Janet Evanovich's Full Series)\", 'Lucky : A Memoir', 'The Dogs of Babel (Today Show Book Club #12)', \"White Oleander : A Novel (Oprah's Book Club)\", 'White Oleander : A Novel', 'The Jester', 'Me Talk Pretty One Day', 'The Hobbit : The Enchanting Prelude to The Lord of the Rings', 'A Prayer for Owen Meany', 'Silent Witness', 'The Murder Book', \"The Dress Lodger (Ballantine Reader's Circle)\", 'Stanislaski Sisters', 'Middlesex: A Novel', \"The Dive From Clausen's Pier : A Novel (Vintage Contemporaries (Paperback))\", 'The Indian in the Cupboard', 'Postmortem', 'All That Remains (Kay Scarpetta Mysteries (Paperback))', 'The Rainmaker', \"Tuesdays with Morrie: An Old Man, a Young Man, and Life's Greatest Lesson\", 'Into the Wild', 'Who Moved My Cheese? An Amazing Way to Deal with Change in Your Work and in Your Life', 'Lord of the Flies', 'Watchers', 'Lightning', 'The Cardinal of the Kremlin (Jack Ryan Novels)', 'Rules of Prey', 'Vital Signs', 'Mind Prey', \"From Potter's Field\", 'Contagion', 'Cause of Death', 'Certain Prey', 'Black Notice', 'Harry Potter and the Chamber of Secrets (Book 2)', 'Harry Potter and the Prisoner of Azkaban (Book 3)', 'Crossings', 'Secrets', 'Wanderlust', 'The Partner', 'The Street Lawyer', 'Tell No One', 'Gone for Good', 'The Summons', 'Dune (Remembering Tomorrow)', 'Presumed Innocent', 'Blood Work', 'Hide &amp; Seek', 'Jack &amp; Jill (Alex Cross Novels)', 'Unspeakable', 'Saving Faith', 'Violets Are Blue', 'J Is for Judgment', 'K Is for Killer (Kinsey Millhone Mysteries (Paperback))', 'Misery', 'Dolores Claiborne', 'The Virgin Blue', 'Heaven and Earth (Three Sisters Island Trilogy)', 'Hemlock Bay', 'The Prince of Tides', 'D Is for Deadbeat (Kinsey Millhone Mysteries (Paperback))', 'Where the Red Fern Grows', 'E Is for Evidence: A Kinsey Millhone Mystery (Kinsey Millhone Mysteries (Paperback))', 'B Is for Burglar (Kinsey Millhone Mysteries (Paperback))', 'C Is for Corpse (Kinsey Millhone Mysteries (Paperback))', 'Long After Midnight', 'The Alienist', 'One Door Away from Heaven', 'Reap the Wind', \"The Sweet Potato Queens' Book of Love\", 'Two for the Dough', 'A Year in Provence', 'Midnight in the Garden of Good and Evil', \"Angela's Ashes (MMP) : A Memoir\", 'Pay It Forward', \"The Kitchen God's Wife\", 'Saint Maybe', 'A Patchwork Planet', 'Tears of the Giraffe (No.1 Ladies Detective Agency)', \"The No. 1 Ladies' Detective Agency (Today Show Book Club #8)\", 'The Queen of the Damned (Vampire Chronicles (Paperback))', 'While I Was Gone', \"Cordina's Crown Jewel\", 'Night Prey', 'Chromosome 6', 'Point of Origin', 'The Testament', 'When the Wind Blows', \"A Thousand Acres (Ballantine Reader's Circle)\", 'Ashes to Ashes', 'Fear Nothing', 'Seize the Night', \"She's Come Undone (Oprah's Book Club (Paperback))\", \"I'll Be Seeing You\", 'The Five People You Meet in Heaven', 'All I Really Need to Know', 'Disclosure', 'Dark Rivers of the Heart', 'Whirlwind (Tyler, Book 1)', 'Mystic River', 'Shadow Prey', 'The Sum of All Fears (Jack Ryan Novels)', 'The Funhouse', \"Tom Clancy's Op-Center (Tom Clancy's Op Center (Paperback))\", \"Hornet's Nest\", 'Firefly Summer', 'A Time to Kill', 'Heartbeat', 'The Client', 'The Pelican Brief', \"Smilla's Sense of Snow\", 'The Horse Whisperer', '2nd Chance', 'Four Past Midnight', \"I'll Take Manhattan\", \"We'll Meet Again\", 'The Red Tent (Bestselling Backlist)', 'Interview with the Vampire', 'Weep No More My Lady', 'Tara Road', 'Island of the Blue Dolphins (Laurel Leaf Books)', 'Message in a Bottle', 'Let Me Call You Sweetheart', 'While My Pretty One Sleeps', 'The Anastasia Syndrome', 'All Around the Town', 'Remember Me', \"Chicken Soup for the Woman's Soul (Chicken Soup for the Soul Series (Paper))\", \"The Pilot's Wife : A Novel\", \"Drowning Ruth (Oprah's Book Club)\", 'Engaging The Enemy', 'Irish Hearts', 'Red Storm Rising', 'The Bear and the Dragon (Jack Ryan Novels)', 'Echoes', 'One True Thing', 'Nothing Lasts Forever', 'Absolute Power', 'A Walk to Remember', 'A Bend in the Road', 'Dances With Wolves', 'Small Town Girl', 'Gone But Not Forgotten', 'Smart Women', '204 Rosewood Lane', 'Men Are from Mars, Women Are from Venus: A Practical Guide for Improving Communication and Getting What You Want in Your Relationships', 'After All These Years', \"Charlotte's Web (Trophy Newbery)\", 'Of Mice and Men (Penguin Great Books of the 20th Century)', \"Songs in Ordinary Time (Oprah's Book Club (Paperback))\", 'At Home in Mitford (The Mitford Years)', 'Welcome to Temptation', 'The Vampire Lestat (Vampire Chronicles, Book II)', 'Sword of Shannara', \"The Princess Bride: S Morgenstern's Classic Tale of True Love and High Adventure\", \"Foucault's Pendulum\", 'Rising Sun', 'Degree of Guilt', 'Icebound', 'The Witching Hour (Lives of the Mayfair Witches)', 'The Tale of the Body Thief (Vampire Chronicles (Paperback))', 'Sleepers', 'The Genesis Code', 'Irish Rebel (Special Edition, 1328)', 'A Lesson Before Dying (Vintage Contemporaries (Paperback))', 'Ellen Foster', 'A Heartbreaking Work of Staggering Genius', 'Watership Down', 'The Thorn Birds', 'American Gods', \"The Book of Ruth (Oprah's Book Club (Paperback))\", 'Like Water for Chocolate: A Novel in Monthly Installments, With Recipes, Romances, and Home Remedies', \"The Handmaid's Tale : A Novel\", 'Into Thin Air : A Personal Account of the Mt. Everest Disaster', 'A Painted House', 'Balzac and the Little Chinese Seamstress : A Novel', 'The Phantom Tollbooth', 'Midnight', 'Hideaway', 'Turtle Moon', 'Silent Prey', 'Fatal Cure', 'The Body Farm', 'Acceptable Risk', \"Tom Clancy's Op-Center: Games of State (Tom Clancy's Op Center (Paperback))\", 'Invasion', 'Sudden Prey', 'Executive Orders (Jack Ryan Novels)', 'Rainbow Six', 'Reunion in Death', 'Purity in Death', 'Red Dragon', 'Daddy', 'The Firm', 'The Chamber', 'The Return Journey', 'Summer Sisters', 'The Brethren', 'To Kill a Mockingbird', 'Scarlett : The Sequel to Margaret Mitchell\\'s \\\\Gone With the Wind\\\\\"\"', 'Along Came a Spider (Alex Cross Novels)', \"The General's Daughter\", 'The Bridges of Madison County', 'Slow Waltz in Cedar Bend', 'Primary Colors: A Novel of Politics', 'The Notebook', \"Where the Heart Is (Oprah's Book Club (Paperback))\", 'The Tommyknockers', 'The Gunslinger (The Dark Tower, Book 1)', 'The Stand: Complete and Uncut', 'Needful Things', \"Gerald's Game\", 'The Door to December', 'A Case of Need', 'Insomnia', 'The Deep End of the Ocean', 'The Green Mile: The Mouse on the Mile (Green Mile Series)', 'Beloved (Plume Contemporary Fiction)', 'The Reef', 'Jewels of the Sun (Irish Trilogy)', \"River's End\", 'Tears of the Moon (Irish Trilogy)', 'Carolina Moon', 'Dance upon the Air (Three Sisters Island Trilogy)', 'Night', 'F Is for Fugitive (Kinsey Millhone Mysteries (Paperback))', 'Night Sins', 'The Cereal Murders', 'The Clinic (Alex Delaware Novels (Paperback))', 'Couplehood', 'False Memory', 'Summer Light', 'True Blue', 'The First Wives Club Movie Tie In', 'My Gal Sunday', 'Hearts In Atlantis', 'Coast Road: A Novel', 'Night Whispers', 'Melody (Logan)', 'Waiting to Exhale', 'The Color Purple', 'GARDEN OF SHADOWS (Dollanger Saga (Paperback))', 'Dawn (Cutler)', \"Twilight's Child (Cutler)\", 'Loves Music, Loves to Dance', 'Moonlight Becomes You', 'A Cry In The Night', 'Dreamcatcher', \"Daddy's Little Girl\", 'Artemis Fowl (Artemis Fowl, Book 1)', \"Don't Stand Too Close to a Naked Man\", 'Call of the Wild', \"Bridget Jones's Diary\", 'Bridget Jones: The Edge of Reason', 'The Hours: A Novel', 'The Catcher in the Rye', 'The Mists of Avalon', 'The Cider House Rules', 'Table For Two', 'House of Sand and Fog', 'Neverwhere', 'Coraline', 'Like Water for Chocolate : A Novel in Monthly Installments with Recipes, Romances, and Home Remedies', \"The Bonesetter's Daughter\", 'The Accidental Tourist', 'Harry Potter and the Goblet of Fire (Book 4)', 'Harry Potter and the Order of the Phoenix (Book 5)', 'Circle of Friends', 'Good Omens', 'Neuromancer (Remembering Tomorrow)', 'The Sands of Time', 'Thinner', 'The Dark Half', '1984', 'Animal Farm', 'Girl with a Pearl Earring', 'Rising Tides', 'Face the Fire (Three Sisters Island Trilogy)', \"The Clan of the Cave Bear (Earth's Children (Paperback))\", 'The Valley of Horses', 'Sacred Sins', \"Harry Potter and the Sorcerer's Stone (Book 1)\", \"She's Come Undone (Oprah's Book Club)\", 'Possession : A Romance', 'Snow Falling on Cedars', \"ANGELA'S ASHES\", 'The Shipping News : A Novel', 'Stupid White Men ...and Other Sorry Excuses for the State of the Nation!', 'Fast Food Nation: The Dark Side of the All-American Meal', 'One for the Money (A Stephanie Plum Novel)', '1st to Die: A Novel', 'The Burden of Proof', 'Daisy Fay and the Miracle Man', 'Still Waters', 'Cry Wolf', 'Guilty as Sin', 'The Ugly Duckling', 'The Perfect Husband', 'The Next Accident', 'Final Target', 'Dust to Dust', 'Touching Evil', 'Whisper of Evil (Hooper, Kay. Evil Trilogy.)', \"Angela's Ashes: A Memoir\", 'The Divine Secrets of the Ya-Ya Sisterhood: A Novel', 'The Bean Trees', 'Fried Green Tomatoes at the Whistle Stop Cafe', 'Round Ireland With a Fridge', \"Pope Joan (Ballantine Reader's Circle)\", 'Stanislaski Brothers (Silhouette Promo)', 'Time And Again', 'The Reader', 'The Glass Lake', 'The Smoke Jumper', 'The Rescue', \"The Handmaid's Tale\", 'Three Fates', 'The Robber Bride', 'Forever... : A Novel of Good and Evil, Love and Hope', 'Seven Habits Of Highly Effective People', 'Midnight in the Garden of Good and Evil: A Savannah Story', 'Prey', 'Memoirs of a Geisha Uk', 'Year of Wonders', 'A Map of the World', 'Pop Goes the Weasel', 'A Beautiful Mind: The Life of Mathematical Genius and Nobel Laureate John Nash', 'A Walk in the Woods: Rediscovering America on the Appalachian Trail (Official Guides to the Appalachian Trail)', 'Shopgirl', 'Pigs in Heaven', 'Jurassic Park', 'Congo', 'The Lost World', 'Cruel &amp; Unusual (Kay Scarpetta Mysteries (Paperback))', 'The Last Precinct', 'Isle of Dogs', 'The Blue Nowhere : A Novel', 'Tis : A Memoir', 'Chicken Soup for the Soul (Chicken Soup for the Soul)', 'High Five (A Stephanie Plum Novel)', 'Faking It', 'Sea Glass: A Novel', 'The Surgeon', 'The Copper Beech', \"Harry Potter and the Sorcerer's Stone (Harry Potter (Paperback))\", 'The Fellowship of the Ring (The Lord of the Rings, Part 1)', 'The Two Towers (The Lord of the Rings, Part 2)', 'The Return of the King (The Lord of the Rings, Part 3)', 'Lies and the Lying Liars Who Tell Them: A Fair and Balanced Look at the Right', 'The Green Mile', 'From a Buick 8 : A Novel', \"Ender's Game (Ender Wiggins Saga (Paperback))\", 'Eats, Shoots &amp; Leaves: The Zero Tolerance Approach to Punctuation', 'The Runaway Jury', '\\\\O\\\\\" Is for Outlaw\"', 'Key of Light (Key Trilogy (Paperback))', 'Key of Knowledge (Key Trilogy (Paperback))', 'Key of Valor (Roberts, Nora. Key Trilogy, 3.)', 'Confessions of an Ugly Stepsister : A Novel', 'Life of Pi', 'The Cat Who Saw Stars (Cat Who... (Paperback))', 'Midnight Bayou', 'The Girl Who Loved Tom Gordon', 'Wifey', '2010: Odyssey Two', 'The Eight', 'Dr. Death (Alex Delaware Novels (Paperback))', 'Skipping Christmas', 'Mutation', 'Southern Cross', 'The King of Torts', 'Roses Are Red (Alex Cross Novels)', 'Black Friday', 'Cradle and All', 'The Third Twin', 'The Bourne Supremacy', 'Nickel and Dimed: On (Not) Getting By in America', 'The Eye of the World (The Wheel of Time, Book 1)', 'Monster : A Novel (Alex Delaware Novels (Paperback))', 'Breath, Eyes, Memory', 'Zen and the Art of Motorcycle Maintenance: An Inquiry into Values', 'Angels &amp; Demons', \"Don't Sweat the Small Stuff and It's All Small Stuff : Simple Ways to Keep the Little Things from Taking Over Your Life (Don't Sweat the Small Stuff Series)\", 'Five Quarters of the Orange', 'Intensity', \"The Hitchhiker's Guide to the Galaxy\", \"It's Always Something\", 'The Giver (21st Century Reference)', 'The Long Road Home', 'A Wrinkle In Time', 'Seabiscuit: An American Legend', 'A Is for Alibi (Kinsey Millhone Mysteries (Paperback))', 'The Eyre Affair (Alex Awards (Awards))', 'SHIPPING NEWS', 'Lucky Man: A Memoir', \"The Color of Water: A Black Man's Tribute to His White Mother\", 'Animal Dreams', 'Divine Secrets of the Ya-Ya Sisterhood: A Novel', 'Love in the Time of Cholera (Penguin Great Books of the 20th Century)', 'The Amazing Adventures of Kavalier &amp; Clay', 'White Teeth: A Novel', 'Empire Falls', 'The Simple Truth', \"Song of Solomon (Oprah's Book Club (Paperback))\", 'The Bluest Eye', 'Contact', 'A Fine Balance', 'The Professor and the Madman: A Tale of Murder, Insanity, and the Making of The Oxford English Dictionary', 'Stillwatch', 'Reading Lolita in Tehran: A Memoir in Books', 'The Boy Next Door', 'The Poisonwood Bible', 'Little Altars Everywhere: A Novel', 'Wicked: The Life and Times of the Wicked Witch of the West', 'Angus, Thongs and Full-Frontal Snogging: Confessions of Georgia Nicolson', \"The Girls' Guide to Hunting and Fishing\", 'The Nanny Diaries: A Novel', 'Timeline', \"Big Cherry Holler: A Big Stone Gap Novel (Ballantine Reader's Circle)\", 'Plainsong (Vintage Contemporaries)', 'Midwives: A Novel', 'The Princess Diaries', 'Last Chance Saloon', 'Confessions of a Shopaholic (Summer Display Opportunity)', 'Shopaholic Takes Manhattan (Summer Display Opportunity)', 'Abduction', 'Hannibal', 'Fat Tuesday', 'The Alibi', 'The Honk and Holler Opening Soon', 'A Civil Action', 'Good in Bed', 'Jemima J: A Novel About Ugly Ducklings and Swans', 'Welcome to the World, Baby Girl!', 'Tribulation Force: The Continuing Drama of Those Left Behind (Left Behind No. 2)', 'Nicolae: The Rise of Antichrist (Left Behind No. 3)', \"What to Expect When You're Expecting (Revised Edition)\", 'Beach House', 'A 2nd Helping of Chicken Soup for the Soul (Chicken Soup for the Soul Series (Paper))', 'Chicken Soup for the Teenage Soul (Chicken Soup for the Soul)', 'Macgregor Brides (Macgregors)', 'Unnatural Exposure', 'Message from Nam', 'Sanctuary', 'The Bourne Identity', 'Before I Say Good-Bye', 'Open Season', 'Tis: A Memoir', 'Catch Me If You Can: The True Story of a Real Fake', 'The Golden Compass (His Dark Materials, Book 1)', 'Brave New World', 'River, Cross My Heart', 'A Widow for One Year', 'The Corrections', 'Black and Blue : A Novel', 'Blessings', 'Open House', \"Vinegar Hill (Oprah's Book Club (Paperback))\", 'Charming Billy', 'Drowning Ruth', 'Beloved', 'We Were the Mulvaneys', 'The Bonfire of the Vanities', 'Bridget Jones : The Edge of Reason', 'Jewel', 'STONES FROM THE RIVER', 'Peace Like a River', 'Notes from a Small Island', 'The Curious Incident of the Dog in the Night-Time (Today Show Book Club #13)', \"Dude, Where's My Country?\", 'Four To Score (A Stephanie Plum Novel)', 'Hot Six : A Stephanie Plum Novel (A Stephanie Plum Novel)', 'Fast Women', \"Sophie's World: A Novel About the History of Philosophy\", 'Betrayal in Death', 'Seduction in Death', 'She Went All the Way (Avon Light Contemporary Romances)', 'The Saving Graces: A Novel', 'The Alchemist: A Fable About Following Your Dream', 'The Eyre Affair: A Novel', 'The Last Time They Met : A Novel', \"Open House (Oprah's Book Club (Paperback))\", 'Bee Season: A Novel', 'The Devil Wears Prada : A Novel', 'The Blind Assassin', 'Sisterhood of the Traveling Pants', 'Here on Earth', 'L Is for Lawless', 'N Is for Noose', 'Scarlet Feather', 'The Summerhouse', 'The Mulberry Tree', 'Secret History', 'I Know This Much Is True', 'The Hours : A Novel', 'Amy and Isabelle : A novel', 'The Virgin Suicides', 'Girl, Interrupted', 'Cold Mountain', 'How to Be Good', 'The Perfect Storm : A True Story of Men Against the Sea', 'The Bad Beginning (A Series of Unfortunate Events, Book 1)', 'The Reptile Room (A Series of Unfortunate Events, Book 2)', 'A Light in the Window (The Mitford Years)', 'Slammerkin', 'The Crimson Petal and the White', 'Mrs Dalloway', 'A Simple Plan', 'Seven Up (A Stephanie Plum Novel)', \"Full House (Janet Evanovich's Full Series)\", 'How to Make an American Quilt', \"Reviving Ophelia: Saving the Selves of Adolescent Girls (Ballantine Reader's Circle)\", 'The Angel of Darkness', 'Seabiscuit', 'Body of Evidence (Kay Scarpetta Mysteries (Paperback))', \"Lamb : The Gospel According to Biff, Christ's Childhood Pal\", 'The Hot Zone', 'The Sum of All Fears', 'Nerd in Shining Armor', 'Holes (Yearling Newbery)', 'A Wrinkle in Time', 'Sick Puppy', 'The Bone Collector (Lincoln Rhyme Novels (Paperback))', '4 Blondes', \"CAT'S EYE\", 'Dying for Chocolate (Culinary Mysteries (Paperback))', 'The Grilling Season', 'A Man in Full', \"Jewel (Oprah's Book Club)\", 'FORREST GUMP (Movie Tie in)', 'All the Pretty Horses (The Border Trilogy, Vol 1)', 'The English Patient', \"Corelli's Mandolin : A Novel\", 'It Was on Fire When I Lay Down on It', 'The Hundred Secret Senses', 'Morality for Beautiful Girls (No.1 Ladies Detective Agency)', \"Life's Little Instruction Book (Life's Little Instruction Books (Paperback))\", 'Pleading Guilty', 'Kiss the Girls', 'Exclusive', 'A Thin Dark Line (Mysteries &amp; Horror)', 'You Belong To Me', 'Icy Sparks', 'Visions of Sugar Plums', 'Now You See Me', 'Fahrenheit 451', \"Big Stone Gap: A Novel (Ballantine Reader's Circle)\", \"The Dive From Clausen's Pier (Alex Awards)\", 'Three Junes', 'Q Is for Quarry', 'Outlander', \"Suzanne's Diary for Nicholas\", 'Flowers for Algernon (Bantam Classic)', \"Schindler's List\", 'Miss Julia Speaks Her Mind : A Novel', 'The Other Boleyn Girl', 'A Girl Named Zippy: Growing Up Small in Mooreland Indiana (Today Show Book Club #3)', \"The No. 1 Ladies' Detective Agency\", 'Prodigal Summer', 'September', 'The Weight of Water : A Novel Tag: Author of Resistance and Strange Fits of Passion', \"Fortune's Rocks: A Novel\", 'Flesh and Blood', 'What Looks Like Crazy On An Ordinary Day', 'Shopaholic Ties the Knot', 'Silver Wedding', 'See How They Run', 'Under the Tuscan Sun', 'Their Eyes Were Watching God: A Novel', \"The Liar's Club: A Memoir\", 'To the Nines: A Stephanie Plum Novel', 'The Corrections: A Novel', 'Hard Eight : A Stephanie Plum Novel (A Stephanie Plum Novel)', 'Visions of Sugar Plums: A Stephanie Plum Holiday Novel', 'The Weight of Water', 'Gorky Park', 'The World According to Garp', 'Considering Kate (The Stanislaskis) (Silhouette Special Edition)', 'Cold Mountain : A Novel', \"The Idiot Girls' Action Adventure Club\", 'Atonement : A Novel', 'Breathing Lessons', 'Devices and Desires', 'The Celestine Prophecy (Celestine Prophecy)', 'The Beach House', 'Moo', \"One Flew Over the Cuckoo's Nest\", 'Bastard Out of Carolina', 'Seinlanguage', \"Boy's Life\", 'The Remains of the Day (Vintage International)', 'The House on Mango Street (Vintage Contemporaries)', 'The Girl Who Loved Tom Gordon : A Novel', 'Fall On Your Knees (Oprah #45)', 'A Confederacy of Dunces (Evergreen Book)', 'Thousand Acres', 'Fingersmith', 'The Stone Diaries', 'Holding the Dream (Dream Trilogy)', 'Fatal Voyage', 'Where or When  : A Novel', 'Running with Scissors: A Memoir', 'Bleachers', 'The Servants of Twilight', 'The House of Thunder', 'The Eyes of Darkness', 'Fine Things', 'The Gift', 'Black and Blue', 'Nights in Rodanthe', 'Nightmares &amp; Dreamscapes', 'From the Corner of His Eye', 'Back Roads', 'Silent Night : A Christmas Suspense Story', 'On the Street Where You Live', 'American Psycho (Vintage Contemporaries)', 'The Woman Next Door', 'The God of Small Things', 'Lake Wobegon days', 'Word Freak: Heartbreak, Triumph, Genius, and Obsession in the World of Competitive Scrabble Players', 'I Capture the Castle', 'Silence of the Lambs', \"Fortune's Rocks : A Novel\", 'The Final Judgment', 'Like Water for Chocolate: A Novel in Monthly Installments With Recipes, Romances and Home Remedies', 'P Is for Peril (Kinsey Millhone Mysteries (Hardcover))', 'Clear and Present Danger (Jack Ryan Novels)', 'Naked in Death', 'Chosen Prey', 'Shell Seekers', 'Gone with the Wind', 'Space', 'G Is for Gumshoe (Kinsey Millhone Mysteries (Paperback))', 'H Is for Homicide (Kinsey Millhone Mysteries (Paperback))', 'The Cat Who Ate Danish Modern (Cat Who... (Paperback))', 'Anne of Avonlea (Anne of Green Gables Novels (Paperback))', 'The House of the Spirits', 'The Lottery Winner : Alvirah And Willy Stories', 'In Her Shoes : A Novel', 'Hearts in Atlantis', 'Soul Harvest: The World Takes Sides (Left Behind No. 4)', 'A Child Called \\\\It\\\\\": One Child\\'s Courage to Survive\"', \"The Lost Boy: A Foster Child's Search for the Love of a Family\", \"Full Speed (Janet Evanovich's Full Series)\", 'The Rapture of Canaan', 'Dragonfly in Amber', 'Evening Class', 'The Loop', 'Anne of the Island', 'The First Counsel', 'The Four Agreements: A Practical Guide to Personal Freedom', 'Tell Me Lies (Tell Me Lies)', 'The Bachelor (Warner Books Contemporary Romance)', 'The Winner', 'Born in Shame', 'Dream Country', 'Bag of Bones', \"I Know This Much Is True (Oprah's Book Club)\", 'Prey: A Novel', 'Without Remorse', 'Debt of Honor (Jack Ryan Novels)', 'Wish You Well', 'P Is for Peril', 'Summer Pleasures', 'Blow Fly: A Scarpetta Novel', 'Eyes of Prey', 'Cat &amp; Mouse (Alex Cross Novels)', 'The Switch', 'Dark Paradise', 'And Then You Die', 'Deja Dead', \"A Virtuous Woman (Oprah's Book Club (Paperback))\", 'Winter Moon', 'The Bad Place', 'Cold Fire', 'Mr. Murder', 'The Villa', 'Survival of the Fittest: An Alex Delaware Novel', 'The Face of Deception', 'Four Blind Mice', 'Ishmael: An Adventure of the Mind and Spirit', 'Outbreak', 'The Voice of the Night', 'Secret Prey', 'Mortal Prey', 'Eyes of the Dragon', 'The Drawing of the Three (The Dark Tower, Book 2)', 'The Two Dead Girls (Green Mile Series)', \"The Green Mile: Coffey's Hands (Green Mile Series)\", 'The Green Mile: The Bad Death of Eduard Delacroix (Green Mile Series)', 'The Green Mile: Night Journey (Green Mile Series)', 'The Green Mile: Coffey on the Mile (Green Mile Series)', 'Summer Island', 'Twilight Eyes', 'Patriot Games (Jack Ryan Novels)', 'Zoya', \"The Plains of Passage (Earth's Children (Paperback))\", 'The Third Victim', 'The Killing Game: Only One Can Win...and the Loser Dies', 'Midnight Whispers (Cutler)', 'Ruby (Landry)', 'Envy', 'Inner Harbor (Quinn Brothers (Paperback))', 'Sphere', 'The Mummy or Ramses the Damned', 'The Andromeda Strain', 'TickTock', 'Shadowfires', \"Slaughterhouse Five or the Children's Crusade: A Duty Dance With Death\", 'Stranger in a Strange Land (Remembering Tomorrow)', 'Skeleton Crew', 'Anne of Green Gables (Anne of Green Gables Novels (Paperback))', 'The Cradle Will Fall', \"Ruthless.Com (Tom Clancy's Power Plays (Paperback))\", 'Body of Lies', 'I Know Why the Caged Bird Sings', 'Anne Frank: The Diary of a Young Girl', 'Airframe', 'Lasher: Lives of the Mayfair Witches (Lives of the Mayfair Witches)', 'I Is for Innocent', 'Beach Music', \"The Deep End of the Ocean (Oprah's Book Club (Hardcover))\", 'The Temple of My Familiar', 'The Killer Angels', 'The Pillars of the Earth', 'Angels', 'Prodigal Summer: A Novel', 'Colony', \"East of Eden (Oprah's Book Club)\", 'Digital Fortress : A Thriller', \"The Pilot's Wife\", 'The Terminal Man', 'Billy Straight : A Novel', 'Truly, Madly Manhattan', 'Macgregor Grooms (Macgregors)', 'Reflections And Dreams', 'Black House', 'Jonathan Livingston Seagull', 'Daughter of Fortune: A Novel', 'Can You Keep a Secret?', 'The Key to Midnight', 'Vector', 'Easy Prey', 'Portrait in Death', 'Portrait of a Killer: Jack the Ripper-- Case Closed (Berkley True Crime)', 'Kaleidoscope', 'A Dangerous Fortune', 'Voyager', 'The Wedding', 'Morning, Noon &amp; Night', 'Plum Island', 'The Playboy', 'Last Man Standing', 'Manhattan Hunt Club', 'M Is for Malice', 'How Stella Got Her Groove Back', 'Dead Sleep', 'That Camden Summer', 'Montana Sky', 'Sea Swept (Quinn Brothers (Paperback))', 'Homeport', 'Heart of the Sea (Irish Trilogy)', 'Riptide', 'Eleventh Hour: An FBI Thriller (FBI Thriller (Jove Paperback))', 'A Great Deliverance', 'Genuine Lies', 'Carnal Innocence', 'The Search', 'The Empty Chair', 'Deception Point', 'Where Are the Children?', 'The Great Gatsby', 'Christmas Box (Christmas Box Trilogy)', 'Lucky', 'Deck the Halls (Holiday Classics)', 'The Diary of Ellen Rimbauer: My Life at Rose Red', \"Left Behind: A Novel of the Earth's Last Days (Left Behind No. 1)\", \"Left Behind: A Novel of the Earth's Last Days (Left Behind #1)\", 'Between Friends', 'The Hunt for Red October', 'Rose Madder', 'Secrets of the Morning (Cutler)', 'Ground Zero and Beyond', 'Crazy for You', 'Portrait of a Killer: Jack the Ripper -- Case Closed', 'The Cove', \"Pretend You Don't See Her\", \"The Mammoth Hunters (Earth's Children (Paperback))\", 'Eyes of a Child', 'Stalker: A Peter Decker and Rina Lazarus Novel']\n"
     ]
    }
   ],
   "source": [
    "# Step 2: Create Dictionary to Map ISBN to Book Title\n",
    "isbn_to_title = df_books.set_index('isbn')['title'].to_dict()\n",
    "\n",
    "# Step 3: Filter Data\n",
    "# Lower rating thresholds temporarily for debugging\n",
    "user_threshold = 100  # Temporary for debugging\n",
    "book_threshold = 50   # Temporary for debugging\n",
    "\n",
    "# Filter users with at least user_threshold ratings\n",
    "user_counts = df_ratings['user'].value_counts()\n",
    "df_ratings = df_ratings[df_ratings['user'].isin(user_counts[user_counts >= user_threshold].index)]\n",
    "\n",
    "# Filter books with at least book_threshold ratings\n",
    "book_counts = df_ratings['isbn'].value_counts()\n",
    "df_ratings = df_ratings[df_ratings['isbn'].isin(book_counts[book_counts >= book_threshold].index)]\n",
    "\n",
    "# Step 4: Replace ISBN with Book Titles\n",
    "# Use the dictionary to map ISBNs to Book Titles\n",
    "df_ratings['title'] = df_ratings['isbn'].map(isbn_to_title)\n",
    "\n",
    "# Drop rows where ISBNs didn't map to any Book-Title (in case of missing data)\n",
    "df_ratings = df_ratings.dropna(subset=['title'])\n",
    "\n",
    "# Step 5: Manually Create User-Item Matrix\n",
    "# Get the list of unique books and users\n",
    "unique_books = list(df_ratings['title'].unique())\n",
    "unique_users = list(df_ratings['user'].unique())\n",
    "\n",
    "# Create a dictionary to store the matrix\n",
    "user_item_matrix = {}\n",
    "\n",
    "# Initialize the matrix with zeros\n",
    "for book in unique_books:\n",
    "    user_item_matrix[book] = [0] * len(unique_users)\n",
    "\n",
    "# Fill the matrix with ratings\n",
    "for _, row in df_ratings.iterrows():\n",
    "    book = row['title']\n",
    "    user = row['user']\n",
    "    rating = row['rating']\n",
    "    user_index = unique_users.index(user)\n",
    "    user_item_matrix[book][user_index] = rating\n",
    "\n",
    "# Convert the dictionary to a list of lists (rows: books, columns: users)\n",
    "book_user_matrix = np.array(list(user_item_matrix.values()))\n",
    "\n",
    "# Debugging Step: List all available titles\n",
    "print(\"\\nList of all book titles:\\n\", unique_books)\n",
    "\n",
    "# Step 6: Advanced Normalization\n",
    "# Subtract mean and divide by standard deviation for each user's ratings\n",
    "normalized_matrix = []\n",
    "for row in book_user_matrix:\n",
    "    mean = np.mean(row)\n",
    "    std = np.std(row)\n",
    "    normalized_row = (row - mean) / std if std != 0 else row - mean\n",
    "    normalized_matrix.append(normalized_row)\n",
    "normalized_matrix = np.array(normalized_matrix)\n",
    "\n"
   ]
  },
  {
   "cell_type": "code",
   "execution_count": 38,
   "metadata": {},
   "outputs": [
    {
     "name": "stdout",
     "output_type": "stream",
     "text": [
      "[\"Where the Heart Is (Oprah's Book Club (Paperback))\", [['The Weight of Water', 0.7991861366366018], ['The Lovely Bones: A Novel', 0.8166724332106098], ['I Know This Much Is True', 0.8395961694586211], ['The Poisonwood Bible: A Novel', 0.8473086007850986], ['Icy Sparks', 0.8491870278144447]]]\n"
     ]
    }
   ],
   "source": [
    "# Step 7: Build the KNN Model using Correlation Similarity\n",
    "model = NearestNeighbors(metric='correlation', algorithm='brute')\n",
    "model.fit(normalized_matrix)\n",
    "\n",
    "# Step 8: Implement the get_recommends() Function\n",
    "def get_recommends(book = \"\"):\n",
    "    # Check if the book is in the dataset\n",
    "    if book not in unique_books:\n",
    "        # Suggest similar titles if the exact match isn't found\n",
    "        print(f\"\\nBook '{book}' not found. Searching for similar titles...\\n\")\n",
    "        similar_titles = [title for title in unique_books if book.lower() in title.lower()]\n",
    "        if similar_titles:\n",
    "            print(f\"Did you mean one of these?\\n{similar_titles}\")\n",
    "        else:\n",
    "            print(\"No similar titles found.\")\n",
    "        return f\"Book '{book}' not found in dataset.\"\n",
    "    \n",
    "    # Get the index of the book\n",
    "    book_idx = unique_books.index(book)\n",
    "    \n",
    "    # Find the 5 nearest neighbors\n",
    "    distances, indices = model.kneighbors(normalized_matrix[book_idx].reshape(1, -1), n_neighbors=6)\n",
    "    \n",
    "    # Create the list of recommendations\n",
    "    recommendations = []\n",
    "    for i in range(1, len(distances.flatten())):\n",
    "        similar_book = unique_books[indices.flatten()[i]]\n",
    "        recommendations.append([similar_book, distances.flatten()[i]])\n",
    "    \n",
    "    # Sort recommendations by distance and title for consistent order\n",
    "    recommendations.sort(key=lambda x: (x[1], x[0]))\n",
    "    \n",
    "    # Return the result in the required format\n",
    "    return [book, recommendations]\n",
    "\n",
    "    \n",
    "\n",
    "# Test the function with the provided title\n",
    "books = get_recommends(\"Where the Heart Is (Oprah's Book Club (Paperback))\")\n",
    "print(books)\n",
    "    "
   ]
  },
  {
   "cell_type": "code",
   "execution_count": 39,
   "metadata": {},
   "outputs": [
    {
     "name": "stdout",
     "output_type": "stream",
     "text": [
      "You passed the challenge! 🎉🎉🎉🎉🎉\n"
     ]
    }
   ],
   "source": [
    "# Step 7: Test the Function\n",
    "def test_book_recommendation():\n",
    "    test_pass = True\n",
    "    recommends = get_recommends(\"Where the Heart Is (Oprah's Book Club (Paperback))\")\n",
    "    if recommends[0] != \"Where the Heart Is (Oprah's Book Club (Paperback))\":\n",
    "        test_pass = False\n",
    "    recommended_books = [\"I'll Be Seeing You\", 'The Weight of Water', 'I Know This Much Is True', 'The Lovely Bones: A Novel']\n",
    "    recommended_books_dist = [0.8, 0.77, 0.77, 0.77]\n",
    "    for i in range(2): \n",
    "        if recommends[1][i][0] not in recommended_books:\n",
    "            test_pass = False\n",
    "        if abs(recommends[1][i][1] - recommended_books_dist[i]) >= 0.05:\n",
    "            test_pass = False\n",
    "    if test_pass:\n",
    "        print(\"You passed the challenge! 🎉🎉🎉🎉🎉\")\n",
    "    else:\n",
    "        print(\"You haven't passed yet. Keep trying!\")\n",
    "\n",
    "test_book_recommendation()"
   ]
  },
  {
   "cell_type": "code",
   "execution_count": null,
   "metadata": {},
   "outputs": [
    {
     "name": "stdout",
     "output_type": "stream",
     "text": [
      "['The Queen of the Damned (Vampire Chronicles (Paperback))', [['The Tale of the Body Thief (Vampire Chronicles (Paperback))', 0.48722937743080696], ['The Vampire Lestat (Vampire Chronicles, Book II)', 0.5419872784602991], ['Interview with the Vampire', 0.736967078328985], ['Lasher: Lives of the Mayfair Witches (Lives of the Mayfair Witches)', 0.812579803450494], ['The Witching Hour (Lives of the Mayfair Witches)', 0.8174130829796965]]]\n"
     ]
    }
   ],
   "source": [
    "books = get_recommends(\"The Queen of the Damned (Vampire Chronicles (Paperback))\")\n",
    "print(books)     # Ah, close enough"
   ]
  }
 ],
 "metadata": {
  "kernelspec": {
   "display_name": "Python 3",
   "language": "python",
   "name": "python3"
  },
  "language_info": {
   "codemirror_mode": {
    "name": "ipython",
    "version": 3
   },
   "file_extension": ".py",
   "mimetype": "text/x-python",
   "name": "python",
   "nbconvert_exporter": "python",
   "pygments_lexer": "ipython3",
   "version": "3.7.7"
  }
 },
 "nbformat": 4,
 "nbformat_minor": 2
}
